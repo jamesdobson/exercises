{
 "cells": [
  {
   "cell_type": "code",
   "execution_count": 49,
   "metadata": {},
   "outputs": [
    {
     "name": "stdout",
     "output_type": "stream",
     "text": [
      "\u001b[36mINFO\u001b[0m[0000] Prep: Network                                \n",
      "\u001b[36mINFO\u001b[0m[0000] Created network 'k3d-k3s-default'            \n",
      "\u001b[36mINFO\u001b[0m[0000] Created image volume k3d-k3s-default-images  \n",
      "\u001b[36mINFO\u001b[0m[0000] Starting new tools node...                   \n",
      "\u001b[36mINFO\u001b[0m[0000] Starting node 'k3d-k3s-default-tools'        \n",
      "\u001b[36mINFO\u001b[0m[0001] Creating node 'k3d-k3s-default-server-0'     \n",
      "\u001b[36mINFO\u001b[0m[0001] Creating LoadBalancer 'k3d-k3s-default-serverlb' \n",
      "\u001b[36mINFO\u001b[0m[0001] Using the k3d-tools node to gather environment information \n",
      "\u001b[36mINFO\u001b[0m[0001] HostIP: using network gateway 172.29.0.1 address \n",
      "\u001b[36mINFO\u001b[0m[0001] Starting cluster 'k3s-default'               \n",
      "\u001b[36mINFO\u001b[0m[0001] Starting servers...                          \n",
      "\u001b[36mINFO\u001b[0m[0001] Starting node 'k3d-k3s-default-server-0'     \n",
      "\u001b[36mINFO\u001b[0m[0008] All agents already running.                  \n",
      "\u001b[36mINFO\u001b[0m[0008] Starting helpers...                          \n",
      "\u001b[36mINFO\u001b[0m[0008] Starting node 'k3d-k3s-default-serverlb'     \n",
      "\u001b[36mINFO\u001b[0m[0015] Injecting records for hostAliases (incl. host.k3d.internal) and for 2 network members into CoreDNS configmap... \n",
      "\u001b[36mINFO\u001b[0m[0017] Cluster 'k3s-default' created successfully!  \n",
      "\u001b[36mINFO\u001b[0m[0017] You can now use it like this:                \n",
      "kubectl cluster-info\n"
     ]
    }
   ],
   "source": [
    "%%bash\n",
    "k3d cluster create"
   ]
  },
  {
   "cell_type": "code",
   "execution_count": 50,
   "metadata": {},
   "outputs": [
    {
     "name": "stdout",
     "output_type": "stream",
     "text": [
      "\"crossplane-stable\" already exists with the same configuration, skipping\n",
      "Hang tight while we grab the latest from your chart repositories...\n",
      "...Successfully got an update from the \"localstack-repo\" chart repository\n",
      "...Successfully got an update from the \"cilium\" chart repository\n",
      "...Successfully got an update from the \"crossplane-stable\" chart repository\n",
      "...Successfully got an update from the \"metallb\" chart repository\n",
      "...Successfully got an update from the \"prometheus-community\" chart repository\n",
      "Update Complete. ⎈Happy Helming!⎈\n",
      "NAME: crossplane\n",
      "LAST DEPLOYED: Thu Jan  2 16:42:28 2025\n",
      "NAMESPACE: crossplane-system\n",
      "STATUS: deployed\n",
      "REVISION: 1\n",
      "TEST SUITE: None\n",
      "NOTES:\n",
      "Release: crossplane\n",
      "\n",
      "Chart Name: crossplane\n",
      "Chart Description: Crossplane is an open source Kubernetes add-on that enables platform teams to assemble infrastructure from multiple vendors, and expose higher level self-service APIs for application teams to consume.\n",
      "Chart Version: 1.18.2\n",
      "Chart Application Version: 1.18.2\n",
      "\n",
      "Kube Version: v1.30.6+k3s1\n"
     ]
    }
   ],
   "source": [
    "%%bash\n",
    "helm repo add crossplane-stable https://charts.crossplane.io/stable\n",
    "helm repo update\n",
    "helm install crossplane --namespace crossplane-system --create-namespace crossplane-stable/crossplane "
   ]
  },
  {
   "cell_type": "markdown",
   "metadata": {},
   "source": [
    "### Wait until all pods are running before proceeding:"
   ]
  },
  {
   "cell_type": "code",
   "execution_count": 56,
   "metadata": {},
   "outputs": [
    {
     "name": "stdout",
     "output_type": "stream",
     "text": [
      "NAME                                    READY   STATUS    RESTARTS   AGE\n",
      "crossplane-5cdc8c8bc7-847cz             0/1     Running   0          22s\n",
      "crossplane-rbac-manager-c79f85f-v9t5t   1/1     Running   0          22s\n"
     ]
    }
   ],
   "source": [
    "%%bash\n",
    "kubectl get pods -n crossplane-system"
   ]
  },
  {
   "cell_type": "code",
   "execution_count": 57,
   "metadata": {},
   "outputs": [
    {
     "name": "stdout",
     "output_type": "stream",
     "text": [
      "function.pkg.crossplane.io/function-patch-and-transform created\n"
     ]
    }
   ],
   "source": [
    "%%bash\n",
    "cat << EOF | kubectl apply -f -\n",
    "apiVersion: pkg.crossplane.io/v1beta1\n",
    "kind: Function\n",
    "metadata:\n",
    "  name: function-patch-and-transform\n",
    "spec:\n",
    "  package: xpkg.upbound.io/crossplane-contrib/function-patch-and-transform:v0.1.4\n",
    "EOF"
   ]
  },
  {
   "cell_type": "code",
   "execution_count": 58,
   "metadata": {},
   "outputs": [
    {
     "name": "stdout",
     "output_type": "stream",
     "text": [
      "provider.pkg.crossplane.io/provider-kubernetes created\n",
      "deploymentruntimeconfig.pkg.crossplane.io/provider-kubernetes created\n",
      "clusterrolebinding.rbac.authorization.k8s.io/provider-kubernetes-cluster-admin created\n"
     ]
    }
   ],
   "source": [
    "%%bash\n",
    "cat << EOF | kubectl apply -f -\n",
    "apiVersion: pkg.crossplane.io/v1\n",
    "kind: Provider\n",
    "metadata:\n",
    "  name: provider-kubernetes\n",
    "spec:\n",
    "  package: xpkg.upbound.io/upbound/provider-kubernetes:v0.16.0\n",
    "  runtimeConfigRef:\n",
    "    apiVersion: pkg.crossplane.io/v1beta1\n",
    "    kind: DeploymentRuntimeConfig\n",
    "    name: provider-kubernetes\n",
    "---\n",
    "apiVersion: pkg.crossplane.io/v1beta1\n",
    "kind: DeploymentRuntimeConfig\n",
    "metadata:\n",
    "  name: provider-kubernetes\n",
    "spec:\n",
    "  serviceAccountTemplate:\n",
    "    metadata:\n",
    "      name: provider-kubernetes\n",
    "---\n",
    "apiVersion: rbac.authorization.k8s.io/v1\n",
    "kind: ClusterRoleBinding\n",
    "metadata:\n",
    "  name: provider-kubernetes-cluster-admin\n",
    "subjects:\n",
    "  - kind: ServiceAccount\n",
    "    name: provider-kubernetes\n",
    "    namespace: crossplane-system\n",
    "roleRef:\n",
    "  kind: ClusterRole\n",
    "  name: cluster-admin\n",
    "  apiGroup: rbac.authorization.k8s.io\n",
    "EOF"
   ]
  },
  {
   "cell_type": "code",
   "execution_count": 59,
   "metadata": {},
   "outputs": [
    {
     "name": "stdout",
     "output_type": "stream",
     "text": [
      "providerconfig.kubernetes.crossplane.io/default created\n"
     ]
    }
   ],
   "source": [
    "%%bash\n",
    "cat << EOF | kubectl apply -f -\n",
    "apiVersion: kubernetes.crossplane.io/v1alpha1\n",
    "kind: ProviderConfig\n",
    "metadata:\n",
    "  name: default\n",
    "spec:\n",
    "  credentials:\n",
    "    source: InjectedIdentity\n",
    "EOF"
   ]
  },
  {
   "cell_type": "markdown",
   "metadata": {},
   "source": [
    "The cluster and Crossplane are now set up!\n",
    "\n",
    "# Reproduction Steps"
   ]
  },
  {
   "cell_type": "code",
   "execution_count": 60,
   "metadata": {},
   "outputs": [
    {
     "name": "stdout",
     "output_type": "stream",
     "text": [
      "compositeresourcedefinition.apiextensions.crossplane.io/xsimples.example.guidewire.net created\n"
     ]
    }
   ],
   "source": [
    "%%bash\n",
    "cat << EOF | kubectl apply -f -\n",
    "apiVersion: apiextensions.crossplane.io/v1\n",
    "kind: CompositeResourceDefinition\n",
    "metadata:\n",
    "  name: xsimples.example.guidewire.net\n",
    "spec:\n",
    "  group: example.guidewire.net\n",
    "  names:\n",
    "    kind: xSimple\n",
    "    plural: xsimples\n",
    "  claimNames:\n",
    "    kind: Simple\n",
    "    plural: simples\n",
    "  versions:\n",
    "  - name: v1alpha1\n",
    "    served: true\n",
    "    referenceable: true\n",
    "    schema:\n",
    "      openAPIV3Schema:\n",
    "        type: object\n",
    "        properties:\n",
    "          spec:\n",
    "            type: object\n",
    "            properties:\n",
    "              foo:\n",
    "                type: string\n",
    "            required:\n",
    "              - foo\n",
    "EOF"
   ]
  },
  {
   "cell_type": "code",
   "execution_count": 61,
   "metadata": {},
   "outputs": [
    {
     "name": "stdout",
     "output_type": "stream",
     "text": [
      "composition.apiextensions.crossplane.io/simple-composition-fn created\n"
     ]
    }
   ],
   "source": [
    "%%bash\n",
    "cat << EOF | kubectl apply -f -\n",
    "apiVersion: apiextensions.crossplane.io/v1\n",
    "kind: Composition\n",
    "metadata:\n",
    "  name: simple-composition-fn\n",
    "spec:\n",
    "  mode: Pipeline\n",
    "  compositeTypeRef:\n",
    "    apiVersion: example.guidewire.net/v1alpha1\n",
    "    kind: xSimple\n",
    "  pipeline:\n",
    "  - step: patch-and-transform\n",
    "    functionRef:\n",
    "      name: function-patch-and-transform\n",
    "    input:\n",
    "      apiVersion: pt.fn.crossplane.io/v1beta1\n",
    "      kind: Resources\n",
    "      resources:\n",
    "      - name: themap\n",
    "        base:\n",
    "          apiVersion: kubernetes.crossplane.io/v1alpha2\n",
    "          kind: Object\n",
    "          spec:\n",
    "            forProvider:\n",
    "              manifest:\n",
    "                apiVersion: v1\n",
    "                kind: ConfigMap\n",
    "                metadata:\n",
    "                  namespace: default\n",
    "                data:\n",
    "                  constant: first version\n",
    "                  foo: replace me\n",
    "        patches:\n",
    "          - type: FromCompositeFieldPath\n",
    "            fromFieldPath: spec.foo\n",
    "            toFieldPath: metadata.name\n",
    "EOF"
   ]
  },
  {
   "cell_type": "code",
   "execution_count": 62,
   "metadata": {},
   "outputs": [
    {
     "name": "stdout",
     "output_type": "stream",
     "text": [
      "simple.example.guidewire.net/test-infinity-ok created\n"
     ]
    }
   ],
   "source": [
    "%%bash\n",
    "cat << EOF | kubectl apply -f -\n",
    "apiVersion: example.guidewire.net/v1alpha1\n",
    "kind: Simple\n",
    "metadata:\n",
    "  name: test-infinity-ok\n",
    "  namespace: default\n",
    "spec:\n",
    "  foo: \"\"\n",
    "  compositionRef:\n",
    "    name: simple-composition-fn\n",
    "EOF"
   ]
  },
  {
   "cell_type": "code",
   "execution_count": 63,
   "metadata": {},
   "outputs": [
    {
     "name": "stdout",
     "output_type": "stream",
     "text": [
      "NAME               SYNCED   READY   CONNECTION-SECRET   AGE\n",
      "test-infinity-ok   True     True                        4s\n",
      "NAME                           DATA   AGE\n",
      "kube-root-ca.crt               1      2m5s\n",
      "test-infinity-ok-bdcxh-zs2qq   2      3s\n"
     ]
    }
   ],
   "source": [
    "%%bash\n",
    "kubectl get simple.example.guidewire.net\n",
    "kubectl get configmap"
   ]
  },
  {
   "cell_type": "code",
   "execution_count": 64,
   "metadata": {},
   "outputs": [
    {
     "name": "stdout",
     "output_type": "stream",
     "text": [
      "composition.apiextensions.crossplane.io/simple-composition-legacy created\n"
     ]
    }
   ],
   "source": [
    "%%bash\n",
    "cat << EOF | kubectl apply -f -\n",
    "apiVersion: apiextensions.crossplane.io/v1\n",
    "kind: Composition\n",
    "metadata:\n",
    "  name: simple-composition-legacy\n",
    "spec:\n",
    "  compositeTypeRef:\n",
    "    apiVersion: example.guidewire.net/v1alpha1\n",
    "    kind: xSimple\n",
    "  resources:\n",
    "    - name: themap\n",
    "      base:\n",
    "        apiVersion: kubernetes.crossplane.io/v1alpha2\n",
    "        kind: Object\n",
    "        spec:\n",
    "          forProvider:\n",
    "            manifest:\n",
    "              apiVersion: v1\n",
    "              kind: ConfigMap\n",
    "              metadata:\n",
    "                namespace: default\n",
    "              data:\n",
    "                constant: first version\n",
    "                foo: replace me\n",
    "      patches:\n",
    "        - type: FromCompositeFieldPath\n",
    "          fromFieldPath: spec.foo\n",
    "          toFieldPath: metadata.name\n",
    "EOF"
   ]
  },
  {
   "cell_type": "code",
   "execution_count": 65,
   "metadata": {},
   "outputs": [
    {
     "name": "stdout",
     "output_type": "stream",
     "text": [
      "simple.example.guidewire.net/test-infinity-bad created\n"
     ]
    }
   ],
   "source": [
    "%%bash\n",
    "cat << EOF | kubectl apply -f -\n",
    "apiVersion: example.guidewire.net/v1alpha1\n",
    "kind: Simple\n",
    "metadata:\n",
    "  name: test-infinity-bad\n",
    "  namespace: default\n",
    "spec:\n",
    "  foo: \"\"\n",
    "  compositionRef:\n",
    "    name: simple-composition-legacy\n",
    "EOF"
   ]
  },
  {
   "cell_type": "code",
   "execution_count": 66,
   "metadata": {},
   "outputs": [
    {
     "name": "stdout",
     "output_type": "stream",
     "text": [
      "NAME                SYNCED   READY   CONNECTION-SECRET   AGE\n",
      "test-infinity-bad   True     False                       6s\n",
      "test-infinity-ok    True     True                        25s\n",
      "NAME                            DATA   AGE\n",
      "kube-root-ca.crt                1      2m27s\n",
      "test-infinity-bad-5htwh-2lszp   2      2s\n",
      "test-infinity-bad-5htwh-4fcsr   2      4s\n",
      "test-infinity-bad-5htwh-64zd6   2      1s\n",
      "test-infinity-bad-5htwh-6gd9k   2      2s\n",
      "test-infinity-bad-5htwh-79ft4   2      1s\n",
      "test-infinity-bad-5htwh-8dtkh   2      4s\n",
      "test-infinity-bad-5htwh-8r4c8   2      4s\n",
      "test-infinity-bad-5htwh-9n2hv   2      1s\n",
      "test-infinity-bad-5htwh-bp6xg   2      5s\n",
      "test-infinity-bad-5htwh-cvrgn   2      5s\n",
      "test-infinity-bad-5htwh-d6dvp   2      2s\n",
      "test-infinity-bad-5htwh-dnq9d   2      6s\n",
      "test-infinity-bad-5htwh-dznj5   2      2s\n",
      "test-infinity-bad-5htwh-flqnv   2      5s\n",
      "test-infinity-bad-5htwh-fls6g   2      3s\n",
      "test-infinity-bad-5htwh-gz9hs   2      3s\n",
      "test-infinity-bad-5htwh-j66ll   2      5s\n",
      "test-infinity-bad-5htwh-jsd2n   2      5s\n",
      "test-infinity-bad-5htwh-knpnw   2      4s\n",
      "test-infinity-bad-5htwh-lbfl8   2      3s\n",
      "test-infinity-bad-5htwh-nhm92   2      4s\n",
      "test-infinity-bad-5htwh-p7q8l   2      6s\n",
      "test-infinity-bad-5htwh-qzpc2   2      2s\n",
      "test-infinity-bad-5htwh-qzxx7   2      2s\n",
      "test-infinity-bad-5htwh-s6wvt   2      1s\n",
      "test-infinity-bad-5htwh-tt449   2      6s\n",
      "test-infinity-bad-5htwh-vs4vd   2      5s\n",
      "test-infinity-bad-5htwh-w59wf   2      3s\n",
      "test-infinity-bad-5htwh-xhlsb   2      0s\n",
      "test-infinity-bad-5htwh-xvbjl   2      2s\n",
      "test-infinity-bad-5htwh-z5hl5   2      3s\n",
      "test-infinity-bad-5htwh-z75tt   2      6s\n",
      "test-infinity-ok-bdcxh-zs2qq    2      25s\n",
      "Thu Jan  2 16:44:50 EST 2025\n",
      "      43\n",
      "Thu Jan  2 16:44:52 EST 2025\n",
      "      51\n",
      "Thu Jan  2 16:44:53 EST 2025\n",
      "      59\n",
      "Thu Jan  2 16:44:54 EST 2025\n",
      "      66\n",
      "Thu Jan  2 16:44:56 EST 2025\n",
      "      73\n"
     ]
    }
   ],
   "source": [
    "%%bash\n",
    "kubectl get simple.example.guidewire.net\n",
    "kubectl get configmap\n",
    "sleep 1 ; date ; kubectl get configmap | wc -l\n",
    "sleep 1 ; date ; kubectl get configmap | wc -l\n",
    "sleep 1 ; date ; kubectl get configmap | wc -l\n",
    "sleep 1 ; date ; kubectl get configmap | wc -l\n",
    "sleep 1 ; date ; kubectl get configmap | wc -l"
   ]
  },
  {
   "cell_type": "code",
   "execution_count": 67,
   "metadata": {},
   "outputs": [
    {
     "name": "stdout",
     "output_type": "stream",
     "text": [
      "simple.example.guidewire.net \"test-infinity-bad\" deleted\n",
      "Thu Jan  2 16:45:03 EST 2025\n",
      "      88\n",
      "Thu Jan  2 16:45:04 EST 2025\n",
      "      57\n",
      "Thu Jan  2 16:45:05 EST 2025\n",
      "      31\n",
      "Thu Jan  2 16:45:07 EST 2025\n",
      "       3\n",
      "Thu Jan  2 16:45:08 EST 2025\n",
      "       3\n"
     ]
    }
   ],
   "source": [
    "%%bash\n",
    "kubectl delete simple.example.guidewire.net test-infinity-bad\n",
    "sleep 1 ; date ; kubectl get configmap | wc -l\n",
    "sleep 1 ; date ; kubectl get configmap | wc -l\n",
    "sleep 1 ; date ; kubectl get configmap | wc -l\n",
    "sleep 1 ; date ; kubectl get configmap | wc -l\n",
    "sleep 1 ; date ; kubectl get configmap | wc -l"
   ]
  }
 ],
 "metadata": {
  "kernelspec": {
   "display_name": ".venv",
   "language": "python",
   "name": "python3"
  },
  "language_info": {
   "codemirror_mode": {
    "name": "ipython",
    "version": 3
   },
   "file_extension": ".py",
   "mimetype": "text/x-python",
   "name": "python",
   "nbconvert_exporter": "python",
   "pygments_lexer": "ipython3",
   "version": "3.12.8"
  }
 },
 "nbformat": 4,
 "nbformat_minor": 2
}
