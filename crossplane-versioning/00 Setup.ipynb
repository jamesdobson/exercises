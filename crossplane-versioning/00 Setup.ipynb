{
 "cells": [
  {
   "cell_type": "code",
   "execution_count": 1,
   "metadata": {},
   "outputs": [
    {
     "name": "stderr",
     "output_type": "stream",
     "text": [
      "Creating cluster \"kind\" ...\n",
      " • Ensuring node image (kindest/node:v1.31.2) 🖼  ...\n",
      " ✓ Ensuring node image (kindest/node:v1.31.2) 🖼\n",
      " • Preparing nodes 📦   ...\n",
      " ✓ Preparing nodes 📦 \n",
      " • Writing configuration 📜  ...\n",
      " ✓ Writing configuration 📜\n",
      " • Starting control-plane 🕹️  ...\n",
      " ✓ Starting control-plane 🕹️\n",
      " • Installing CNI 🔌  ...\n",
      " ✓ Installing CNI 🔌\n",
      " • Installing StorageClass 💾  ...\n",
      " ✓ Installing StorageClass 💾\n",
      "Set kubectl context to \"kind-kind\"\n",
      "You can now use your cluster with:\n",
      "\n",
      "kubectl cluster-info --context kind-kind\n",
      "\n",
      "Have a nice day! 👋\n"
     ]
    }
   ],
   "source": [
    "%%bash\n",
    "kind create cluster"
   ]
  },
  {
   "cell_type": "code",
   "execution_count": 3,
   "metadata": {},
   "outputs": [
    {
     "name": "stdout",
     "output_type": "stream",
     "text": [
      "\"crossplane-stable\" already exists with the same configuration, skipping\n",
      "Hang tight while we grab the latest from your chart repositories...\n",
      "...Successfully got an update from the \"prometheus-community\" chart repository\n",
      "...Successfully got an update from the \"crossplane-stable\" chart repository\n",
      "...Successfully got an update from the \"komodorio\" chart repository\n",
      "Update Complete. ⎈Happy Helming!⎈\n",
      "NAME: crossplane\n",
      "LAST DEPLOYED: Thu Dec 19 10:20:39 2024\n",
      "NAMESPACE: crossplane-system\n",
      "STATUS: deployed\n",
      "REVISION: 1\n",
      "TEST SUITE: None\n",
      "NOTES:\n",
      "Release: crossplane\n",
      "\n",
      "Chart Name: crossplane\n",
      "Chart Description: Crossplane is an open source Kubernetes add-on that enables platform teams to assemble infrastructure from multiple vendors, and expose higher level self-service APIs for application teams to consume.\n",
      "Chart Version: 1.18.2\n",
      "Chart Application Version: 1.18.2\n",
      "\n",
      "Kube Version: v1.31.2\n"
     ]
    }
   ],
   "source": [
    "%%bash\n",
    "helm repo add crossplane-stable https://charts.crossplane.io/stable\n",
    "helm repo update\n",
    "helm install crossplane --namespace crossplane-system --create-namespace crossplane-stable/crossplane \n"
   ]
  },
  {
   "cell_type": "markdown",
   "metadata": {},
   "source": [
    "### Wait until all pods are running before proceeding:"
   ]
  },
  {
   "cell_type": "code",
   "execution_count": 4,
   "metadata": {},
   "outputs": [
    {
     "name": "stdout",
     "output_type": "stream",
     "text": [
      "NAME                                       READY   STATUS    RESTARTS   AGE\n",
      "crossplane-76596b6bcd-rhqtm                1/1     Running   0          22s\n",
      "crossplane-rbac-manager-787f89744d-7vpmw   1/1     Running   0          22s\n"
     ]
    }
   ],
   "source": [
    "%%bash\n",
    "kubectl get pods -n crossplane-system"
   ]
  },
  {
   "cell_type": "code",
   "execution_count": 6,
   "metadata": {},
   "outputs": [
    {
     "name": "stdout",
     "output_type": "stream",
     "text": [
      "function.pkg.crossplane.io/function-patch-and-transform unchanged\n",
      "provider.pkg.crossplane.io/provider-kubernetes unchanged\n",
      "deploymentruntimeconfig.pkg.crossplane.io/provider-kubernetes unchanged\n",
      "clusterrolebinding.rbac.authorization.k8s.io/provider-kubernetes-cluster-admin unchanged\n",
      "providerconfig.kubernetes.crossplane.io/default created\n"
     ]
    }
   ],
   "source": [
    "%%bash\n",
    "kubectl apply -f setup"
   ]
  },
  {
   "cell_type": "markdown",
   "metadata": {},
   "source": [
    "**If you get an error, re-run the above command--the CRDs may take a few seconds to get installed**\n",
    "\n",
    "---\n",
    "\n",
    "Congratuations, you're all set up! Now you can try out the other notebooks in this directory."
   ]
  }
 ],
 "metadata": {
  "kernelspec": {
   "display_name": ".venv",
   "language": "python",
   "name": "python3"
  },
  "language_info": {
   "codemirror_mode": {
    "name": "ipython",
    "version": 3
   },
   "file_extension": ".py",
   "mimetype": "text/x-python",
   "name": "python",
   "nbconvert_exporter": "python",
   "pygments_lexer": "ipython3",
   "version": "3.13.0"
  }
 },
 "nbformat": 4,
 "nbformat_minor": 2
}
