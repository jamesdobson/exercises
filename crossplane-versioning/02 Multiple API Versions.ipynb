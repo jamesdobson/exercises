{
 "cells": [
  {
   "cell_type": "markdown",
   "metadata": {},
   "source": [
    "# Multiple API Versions\n",
    "\n",
    "**Purpose:** Determine to what extent Crossplane allows us to operate on multiple versions of an XRD in parallel.\n",
    "\n",
    "\n",
    "## Findings\n",
    "1. Only one version in an XRD may be `referenceable`.\n",
    "2. After introducing a new version, we can continue to create resources using the old version, if the old version is `referenceable`.\n",
    "3. After introducing a new version, if the new version is not `referenceable`, it seems impossible to successfully execute the composition for a new resource created on the new version.\n",
    "4. After introducing a new version, if the new version is `referenceable`, we can create resources with the new version."
   ]
  },
  {
   "cell_type": "markdown",
   "metadata": {},
   "source": [
    "## Setup\n",
    "\n",
    "Start with a clean cluster per `00 Setup` notebook.\n",
    "\n",
    "Define an XRD with a single property `foo`:"
   ]
  },
  {
   "cell_type": "code",
   "execution_count": 59,
   "metadata": {},
   "outputs": [
    {
     "name": "stdout",
     "output_type": "stream",
     "text": [
      "compositeresourcedefinition.apiextensions.crossplane.io/xsimples.example.guidewire.net created\n"
     ]
    }
   ],
   "source": [
    "%%bash\n",
    "cat << EOF | kubectl apply -f -\n",
    "apiVersion: apiextensions.crossplane.io/v1\n",
    "kind: CompositeResourceDefinition\n",
    "metadata:\n",
    "  name: xsimples.example.guidewire.net\n",
    "spec:\n",
    "  group: example.guidewire.net\n",
    "  names:\n",
    "    kind: xSimple\n",
    "    plural: xsimples\n",
    "  claimNames:\n",
    "    kind: Simple\n",
    "    plural: simples\n",
    "  versions:\n",
    "  - name: v1alpha1\n",
    "    served: true\n",
    "    referenceable: true\n",
    "    schema:\n",
    "      openAPIV3Schema:\n",
    "        type: object\n",
    "        properties:\n",
    "          spec:\n",
    "            type: object\n",
    "            properties:\n",
    "              foo:\n",
    "                type: string\n",
    "EOF"
   ]
  },
  {
   "cell_type": "markdown",
   "metadata": {},
   "source": [
    "Let's also define an implementation that creates a `ConfigMap` with the value of `foo` put in it:"
   ]
  },
  {
   "cell_type": "code",
   "execution_count": 60,
   "metadata": {},
   "outputs": [
    {
     "name": "stdout",
     "output_type": "stream",
     "text": [
      "composition.apiextensions.crossplane.io/simple-composition-v1alpha1 created\n"
     ]
    }
   ],
   "source": [
    "%%bash\n",
    "cat << EOF | kubectl apply -f -\n",
    "apiVersion: apiextensions.crossplane.io/v1\n",
    "kind: Composition\n",
    "metadata:\n",
    "  name: simple-composition-v1alpha1\n",
    "spec:\n",
    "  mode: Pipeline\n",
    "  compositeTypeRef:\n",
    "    apiVersion: example.guidewire.net/v1alpha1\n",
    "    kind: xSimple\n",
    "  pipeline:\n",
    "  - step: patch-and-transform\n",
    "    functionRef:\n",
    "      name: function-patch-and-transform\n",
    "    input:\n",
    "      apiVersion: pt.fn.crossplane.io/v1beta1\n",
    "      kind: Resources\n",
    "      resources:\n",
    "      - name: themap\n",
    "        base:\n",
    "          apiVersion: kubernetes.crossplane.io/v1alpha2\n",
    "          kind: Object\n",
    "          spec:\n",
    "            forProvider:\n",
    "              manifest:\n",
    "                apiVersion: v1\n",
    "                kind: ConfigMap\n",
    "                metadata:\n",
    "                  namespace: default\n",
    "                data:\n",
    "                  constant: first version\n",
    "                  foo: replace me\n",
    "        patches:\n",
    "          - type: FromCompositeFieldPath\n",
    "            fromFieldPath: spec.foo\n",
    "            toFieldPath: spec.forProvider.manifest.data.foo\n",
    "EOF"
   ]
  },
  {
   "cell_type": "markdown",
   "metadata": {},
   "source": [
    "Now we can create a `Claim` and see that the `ConfigMap` gets created:"
   ]
  },
  {
   "cell_type": "code",
   "execution_count": 61,
   "metadata": {},
   "outputs": [
    {
     "name": "stdout",
     "output_type": "stream",
     "text": [
      "simple.example.guidewire.net/test created\n"
     ]
    }
   ],
   "source": [
    "%%bash\n",
    "cat << EOF | kubectl apply -f -\n",
    "apiVersion: example.guidewire.net/v1alpha1\n",
    "kind: Simple\n",
    "metadata:\n",
    "  name: test\n",
    "  namespace: default\n",
    "spec:\n",
    "  foo: \"Hello, World!\"\n",
    "  compositionRef:\n",
    "    name: simple-composition-v1alpha1\n",
    "EOF"
   ]
  },
  {
   "cell_type": "code",
   "execution_count": 62,
   "metadata": {},
   "outputs": [
    {
     "name": "stdout",
     "output_type": "stream",
     "text": [
      "NAME   SYNCED   READY   CONNECTION-SECRET   AGE\n",
      "test   True     True                        3s\n",
      "-----------------\n",
      "Name:         test-jk966-ccslc\n",
      "Namespace:    default\n",
      "Labels:       <none>\n",
      "Annotations:  <none>\n",
      "\n",
      "Data\n",
      "====\n",
      "constant:\n",
      "----\n",
      "first version\n",
      "foo:\n",
      "----\n",
      "Hello, World!\n",
      "\n",
      "BinaryData\n",
      "====\n",
      "\n",
      "Events:  <none>\n"
     ]
    }
   ],
   "source": [
    "%%bash\n",
    "kubectl get claim test\n",
    "echo \"-----------------\"\n",
    "kubectl describe `kubectl get configmap -o=name | grep test`"
   ]
  },
  {
   "cell_type": "markdown",
   "metadata": {},
   "source": [
    "## Experiment: Introduce a New Version on the XRD\n",
    "\n",
    "We define a new version on the XRD and a new `Composition` to implement it.\n",
    "\n",
    "**Hypothesis:** The existing claim `test` continues to function. New claims with the new version can be created and function correctly. New claims with the old version can also be created, so that consumers can take time to transition to the new version without losing functionality."
   ]
  },
  {
   "cell_type": "markdown",
   "metadata": {},
   "source": [
    "Start by defining a new version, `v2alpha1`, with a new *required* attribute `bar`:"
   ]
  },
  {
   "cell_type": "code",
   "execution_count": 63,
   "metadata": {},
   "outputs": [
    {
     "name": "stderr",
     "output_type": "stream",
     "text": [
      "The CompositeResourceDefinition \"xsimples.example.guidewire.net\" is invalid: \n",
      "* <generated_CRD_\"xsimples.example.guidewire.net\">.spec.versions: Invalid value: []apiextensions.CustomResourceDefinitionVersion{apiextensions.CustomResourceDefinitionVersion{Name:\"v1alpha1\", Served:true, Storage:true, Deprecated:false, DeprecationWarning:(*string)(nil), Schema:(*apiextensions.CustomResourceValidation)(0x40096e29b0), Subresources:(*apiextensions.CustomResourceSubresources)(nil), AdditionalPrinterColumns:[]apiextensions.CustomResourceColumnDefinition(nil), SelectableFields:[]apiextensions.SelectableField(nil)}, apiextensions.CustomResourceDefinitionVersion{Name:\"v2alpha1\", Served:true, Storage:true, Deprecated:false, DeprecationWarning:(*string)(nil), Schema:(*apiextensions.CustomResourceValidation)(0x40096e29b8), Subresources:(*apiextensions.CustomResourceSubresources)(nil), AdditionalPrinterColumns:[]apiextensions.CustomResourceColumnDefinition(nil), SelectableFields:[]apiextensions.SelectableField(nil)}}: must have exactly one version marked as storage version\n",
      "* <generated_CRD_\"xsimples.example.guidewire.net\">.status.storedVersions: Invalid value: []string{\"v1alpha1\"}: must have the storage version v2alpha1\n"
     ]
    },
    {
     "ename": "CalledProcessError",
     "evalue": "Command 'b'cat << EOF | kubectl apply -f -\\napiVersion: apiextensions.crossplane.io/v1\\nkind: CompositeResourceDefinition\\nmetadata:\\n  name: xsimples.example.guidewire.net\\nspec:\\n  group: example.guidewire.net\\n  names:\\n    kind: xSimple\\n    plural: xsimples\\n  claimNames:\\n    kind: Simple\\n    plural: simples\\n  versions:\\n  - name: v1alpha1\\n    served: true\\n    referenceable: true\\n    schema:\\n      openAPIV3Schema:\\n        type: object\\n        properties:\\n          spec:\\n            type: object\\n            properties:\\n              foo:\\n                type: string\\n  - name: v2alpha1\\n    served: true\\n    referenceable: true\\n    schema:\\n      openAPIV3Schema:\\n        type: object\\n        properties:\\n          spec:\\n            type: object\\n            properties:\\n              foo:\\n                type: string\\n              bar:\\n                type: string\\n            required:\\n              - bar\\nEOF\\n'' returned non-zero exit status 1.",
     "output_type": "error",
     "traceback": [
      "\u001b[0;31m---------------------------------------------------------------------------\u001b[0m",
      "\u001b[0;31mCalledProcessError\u001b[0m                        Traceback (most recent call last)",
      "Cell \u001b[0;32mIn[63], line 1\u001b[0m\n\u001b[0;32m----> 1\u001b[0m \u001b[43mget_ipython\u001b[49m\u001b[43m(\u001b[49m\u001b[43m)\u001b[49m\u001b[38;5;241;43m.\u001b[39;49m\u001b[43mrun_cell_magic\u001b[49m\u001b[43m(\u001b[49m\u001b[38;5;124;43m'\u001b[39;49m\u001b[38;5;124;43mbash\u001b[39;49m\u001b[38;5;124;43m'\u001b[39;49m\u001b[43m,\u001b[49m\u001b[43m \u001b[49m\u001b[38;5;124;43m'\u001b[39;49m\u001b[38;5;124;43m'\u001b[39;49m\u001b[43m,\u001b[49m\u001b[43m \u001b[49m\u001b[38;5;124;43m'\u001b[39;49m\u001b[38;5;124;43mcat << EOF | kubectl apply -f -\u001b[39;49m\u001b[38;5;130;43;01m\\n\u001b[39;49;00m\u001b[38;5;124;43mapiVersion: apiextensions.crossplane.io/v1\u001b[39;49m\u001b[38;5;130;43;01m\\n\u001b[39;49;00m\u001b[38;5;124;43mkind: CompositeResourceDefinition\u001b[39;49m\u001b[38;5;130;43;01m\\n\u001b[39;49;00m\u001b[38;5;124;43mmetadata:\u001b[39;49m\u001b[38;5;130;43;01m\\n\u001b[39;49;00m\u001b[38;5;124;43m  name: xsimples.example.guidewire.net\u001b[39;49m\u001b[38;5;130;43;01m\\n\u001b[39;49;00m\u001b[38;5;124;43mspec:\u001b[39;49m\u001b[38;5;130;43;01m\\n\u001b[39;49;00m\u001b[38;5;124;43m  group: example.guidewire.net\u001b[39;49m\u001b[38;5;130;43;01m\\n\u001b[39;49;00m\u001b[38;5;124;43m  names:\u001b[39;49m\u001b[38;5;130;43;01m\\n\u001b[39;49;00m\u001b[38;5;124;43m    kind: xSimple\u001b[39;49m\u001b[38;5;130;43;01m\\n\u001b[39;49;00m\u001b[38;5;124;43m    plural: xsimples\u001b[39;49m\u001b[38;5;130;43;01m\\n\u001b[39;49;00m\u001b[38;5;124;43m  claimNames:\u001b[39;49m\u001b[38;5;130;43;01m\\n\u001b[39;49;00m\u001b[38;5;124;43m    kind: Simple\u001b[39;49m\u001b[38;5;130;43;01m\\n\u001b[39;49;00m\u001b[38;5;124;43m    plural: simples\u001b[39;49m\u001b[38;5;130;43;01m\\n\u001b[39;49;00m\u001b[38;5;124;43m  versions:\u001b[39;49m\u001b[38;5;130;43;01m\\n\u001b[39;49;00m\u001b[38;5;124;43m  - name: v1alpha1\u001b[39;49m\u001b[38;5;130;43;01m\\n\u001b[39;49;00m\u001b[38;5;124;43m    served: true\u001b[39;49m\u001b[38;5;130;43;01m\\n\u001b[39;49;00m\u001b[38;5;124;43m    referenceable: true\u001b[39;49m\u001b[38;5;130;43;01m\\n\u001b[39;49;00m\u001b[38;5;124;43m    schema:\u001b[39;49m\u001b[38;5;130;43;01m\\n\u001b[39;49;00m\u001b[38;5;124;43m      openAPIV3Schema:\u001b[39;49m\u001b[38;5;130;43;01m\\n\u001b[39;49;00m\u001b[38;5;124;43m        type: object\u001b[39;49m\u001b[38;5;130;43;01m\\n\u001b[39;49;00m\u001b[38;5;124;43m        properties:\u001b[39;49m\u001b[38;5;130;43;01m\\n\u001b[39;49;00m\u001b[38;5;124;43m          spec:\u001b[39;49m\u001b[38;5;130;43;01m\\n\u001b[39;49;00m\u001b[38;5;124;43m            type: object\u001b[39;49m\u001b[38;5;130;43;01m\\n\u001b[39;49;00m\u001b[38;5;124;43m            properties:\u001b[39;49m\u001b[38;5;130;43;01m\\n\u001b[39;49;00m\u001b[38;5;124;43m              foo:\u001b[39;49m\u001b[38;5;130;43;01m\\n\u001b[39;49;00m\u001b[38;5;124;43m                type: string\u001b[39;49m\u001b[38;5;130;43;01m\\n\u001b[39;49;00m\u001b[38;5;124;43m  - name: v2alpha1\u001b[39;49m\u001b[38;5;130;43;01m\\n\u001b[39;49;00m\u001b[38;5;124;43m    served: true\u001b[39;49m\u001b[38;5;130;43;01m\\n\u001b[39;49;00m\u001b[38;5;124;43m    referenceable: true\u001b[39;49m\u001b[38;5;130;43;01m\\n\u001b[39;49;00m\u001b[38;5;124;43m    schema:\u001b[39;49m\u001b[38;5;130;43;01m\\n\u001b[39;49;00m\u001b[38;5;124;43m      openAPIV3Schema:\u001b[39;49m\u001b[38;5;130;43;01m\\n\u001b[39;49;00m\u001b[38;5;124;43m        type: object\u001b[39;49m\u001b[38;5;130;43;01m\\n\u001b[39;49;00m\u001b[38;5;124;43m        properties:\u001b[39;49m\u001b[38;5;130;43;01m\\n\u001b[39;49;00m\u001b[38;5;124;43m          spec:\u001b[39;49m\u001b[38;5;130;43;01m\\n\u001b[39;49;00m\u001b[38;5;124;43m            type: object\u001b[39;49m\u001b[38;5;130;43;01m\\n\u001b[39;49;00m\u001b[38;5;124;43m            properties:\u001b[39;49m\u001b[38;5;130;43;01m\\n\u001b[39;49;00m\u001b[38;5;124;43m              foo:\u001b[39;49m\u001b[38;5;130;43;01m\\n\u001b[39;49;00m\u001b[38;5;124;43m                type: string\u001b[39;49m\u001b[38;5;130;43;01m\\n\u001b[39;49;00m\u001b[38;5;124;43m              bar:\u001b[39;49m\u001b[38;5;130;43;01m\\n\u001b[39;49;00m\u001b[38;5;124;43m                type: string\u001b[39;49m\u001b[38;5;130;43;01m\\n\u001b[39;49;00m\u001b[38;5;124;43m            required:\u001b[39;49m\u001b[38;5;130;43;01m\\n\u001b[39;49;00m\u001b[38;5;124;43m              - bar\u001b[39;49m\u001b[38;5;130;43;01m\\n\u001b[39;49;00m\u001b[38;5;124;43mEOF\u001b[39;49m\u001b[38;5;130;43;01m\\n\u001b[39;49;00m\u001b[38;5;124;43m'\u001b[39;49m\u001b[43m)\u001b[49m\n",
      "File \u001b[0;32m~/programming/crossplane/.venv/lib/python3.13/site-packages/IPython/core/interactiveshell.py:2541\u001b[0m, in \u001b[0;36mInteractiveShell.run_cell_magic\u001b[0;34m(self, magic_name, line, cell)\u001b[0m\n\u001b[1;32m   2539\u001b[0m \u001b[38;5;28;01mwith\u001b[39;00m \u001b[38;5;28mself\u001b[39m\u001b[38;5;241m.\u001b[39mbuiltin_trap:\n\u001b[1;32m   2540\u001b[0m     args \u001b[38;5;241m=\u001b[39m (magic_arg_s, cell)\n\u001b[0;32m-> 2541\u001b[0m     result \u001b[38;5;241m=\u001b[39m \u001b[43mfn\u001b[49m\u001b[43m(\u001b[49m\u001b[38;5;241;43m*\u001b[39;49m\u001b[43margs\u001b[49m\u001b[43m,\u001b[49m\u001b[43m \u001b[49m\u001b[38;5;241;43m*\u001b[39;49m\u001b[38;5;241;43m*\u001b[39;49m\u001b[43mkwargs\u001b[49m\u001b[43m)\u001b[49m\n\u001b[1;32m   2543\u001b[0m \u001b[38;5;66;03m# The code below prevents the output from being displayed\u001b[39;00m\n\u001b[1;32m   2544\u001b[0m \u001b[38;5;66;03m# when using magics with decorator @output_can_be_silenced\u001b[39;00m\n\u001b[1;32m   2545\u001b[0m \u001b[38;5;66;03m# when the last Python token in the expression is a ';'.\u001b[39;00m\n\u001b[1;32m   2546\u001b[0m \u001b[38;5;28;01mif\u001b[39;00m \u001b[38;5;28mgetattr\u001b[39m(fn, magic\u001b[38;5;241m.\u001b[39mMAGIC_OUTPUT_CAN_BE_SILENCED, \u001b[38;5;28;01mFalse\u001b[39;00m):\n",
      "File \u001b[0;32m~/programming/crossplane/.venv/lib/python3.13/site-packages/IPython/core/magics/script.py:155\u001b[0m, in \u001b[0;36mScriptMagics._make_script_magic.<locals>.named_script_magic\u001b[0;34m(line, cell)\u001b[0m\n\u001b[1;32m    153\u001b[0m \u001b[38;5;28;01melse\u001b[39;00m:\n\u001b[1;32m    154\u001b[0m     line \u001b[38;5;241m=\u001b[39m script\n\u001b[0;32m--> 155\u001b[0m \u001b[38;5;28;01mreturn\u001b[39;00m \u001b[38;5;28;43mself\u001b[39;49m\u001b[38;5;241;43m.\u001b[39;49m\u001b[43mshebang\u001b[49m\u001b[43m(\u001b[49m\u001b[43mline\u001b[49m\u001b[43m,\u001b[49m\u001b[43m \u001b[49m\u001b[43mcell\u001b[49m\u001b[43m)\u001b[49m\n",
      "File \u001b[0;32m~/programming/crossplane/.venv/lib/python3.13/site-packages/IPython/core/magics/script.py:315\u001b[0m, in \u001b[0;36mScriptMagics.shebang\u001b[0;34m(self, line, cell)\u001b[0m\n\u001b[1;32m    310\u001b[0m \u001b[38;5;28;01mif\u001b[39;00m args\u001b[38;5;241m.\u001b[39mraise_error \u001b[38;5;129;01mand\u001b[39;00m p\u001b[38;5;241m.\u001b[39mreturncode \u001b[38;5;241m!=\u001b[39m \u001b[38;5;241m0\u001b[39m:\n\u001b[1;32m    311\u001b[0m     \u001b[38;5;66;03m# If we get here and p.returncode is still None, we must have\u001b[39;00m\n\u001b[1;32m    312\u001b[0m     \u001b[38;5;66;03m# killed it but not yet seen its return code. We don't wait for it,\u001b[39;00m\n\u001b[1;32m    313\u001b[0m     \u001b[38;5;66;03m# in case it's stuck in uninterruptible sleep. -9 = SIGKILL\u001b[39;00m\n\u001b[1;32m    314\u001b[0m     rc \u001b[38;5;241m=\u001b[39m p\u001b[38;5;241m.\u001b[39mreturncode \u001b[38;5;129;01mor\u001b[39;00m \u001b[38;5;241m-\u001b[39m\u001b[38;5;241m9\u001b[39m\n\u001b[0;32m--> 315\u001b[0m     \u001b[38;5;28;01mraise\u001b[39;00m CalledProcessError(rc, cell)\n",
      "\u001b[0;31mCalledProcessError\u001b[0m: Command 'b'cat << EOF | kubectl apply -f -\\napiVersion: apiextensions.crossplane.io/v1\\nkind: CompositeResourceDefinition\\nmetadata:\\n  name: xsimples.example.guidewire.net\\nspec:\\n  group: example.guidewire.net\\n  names:\\n    kind: xSimple\\n    plural: xsimples\\n  claimNames:\\n    kind: Simple\\n    plural: simples\\n  versions:\\n  - name: v1alpha1\\n    served: true\\n    referenceable: true\\n    schema:\\n      openAPIV3Schema:\\n        type: object\\n        properties:\\n          spec:\\n            type: object\\n            properties:\\n              foo:\\n                type: string\\n  - name: v2alpha1\\n    served: true\\n    referenceable: true\\n    schema:\\n      openAPIV3Schema:\\n        type: object\\n        properties:\\n          spec:\\n            type: object\\n            properties:\\n              foo:\\n                type: string\\n              bar:\\n                type: string\\n            required:\\n              - bar\\nEOF\\n'' returned non-zero exit status 1."
     ]
    }
   ],
   "source": [
    "%%bash\n",
    "cat << EOF | kubectl apply -f -\n",
    "apiVersion: apiextensions.crossplane.io/v1\n",
    "kind: CompositeResourceDefinition\n",
    "metadata:\n",
    "  name: xsimples.example.guidewire.net\n",
    "spec:\n",
    "  group: example.guidewire.net\n",
    "  names:\n",
    "    kind: xSimple\n",
    "    plural: xsimples\n",
    "  claimNames:\n",
    "    kind: Simple\n",
    "    plural: simples\n",
    "  versions:\n",
    "  - name: v1alpha1\n",
    "    served: true\n",
    "    referenceable: true\n",
    "    schema:\n",
    "      openAPIV3Schema:\n",
    "        type: object\n",
    "        properties:\n",
    "          spec:\n",
    "            type: object\n",
    "            properties:\n",
    "              foo:\n",
    "                type: string\n",
    "  - name: v2alpha1\n",
    "    served: true\n",
    "    referenceable: true\n",
    "    schema:\n",
    "      openAPIV3Schema:\n",
    "        type: object\n",
    "        properties:\n",
    "          spec:\n",
    "            type: object\n",
    "            properties:\n",
    "              foo:\n",
    "                type: string\n",
    "              bar:\n",
    "                type: string\n",
    "            required:\n",
    "              - bar\n",
    "EOF"
   ]
  },
  {
   "cell_type": "markdown",
   "metadata": {},
   "source": [
    "It did not work; the problem is that only one version may have `referenceable` as `true`. We correct this error so the XRD can be applied successfully:"
   ]
  },
  {
   "cell_type": "code",
   "execution_count": 64,
   "metadata": {},
   "outputs": [
    {
     "name": "stdout",
     "output_type": "stream",
     "text": [
      "compositeresourcedefinition.apiextensions.crossplane.io/xsimples.example.guidewire.net configured\n"
     ]
    }
   ],
   "source": [
    "%%bash\n",
    "cat << EOF | kubectl apply -f -\n",
    "apiVersion: apiextensions.crossplane.io/v1\n",
    "kind: CompositeResourceDefinition\n",
    "metadata:\n",
    "  name: xsimples.example.guidewire.net\n",
    "spec:\n",
    "  group: example.guidewire.net\n",
    "  names:\n",
    "    kind: xSimple\n",
    "    plural: xsimples\n",
    "  claimNames:\n",
    "    kind: Simple\n",
    "    plural: simples\n",
    "  versions:\n",
    "  - name: v1alpha1\n",
    "    served: true\n",
    "    referenceable: true\n",
    "    schema:\n",
    "      openAPIV3Schema:\n",
    "        type: object\n",
    "        properties:\n",
    "          spec:\n",
    "            type: object\n",
    "            properties:\n",
    "              foo:\n",
    "                type: string\n",
    "  - name: v2alpha1\n",
    "    served: true\n",
    "    referenceable: false\n",
    "    schema:\n",
    "      openAPIV3Schema:\n",
    "        type: object\n",
    "        properties:\n",
    "          spec:\n",
    "            type: object\n",
    "            properties:\n",
    "              foo:\n",
    "                type: string\n",
    "              bar:\n",
    "                type: string\n",
    "            required:\n",
    "              - bar\n",
    "EOF"
   ]
  },
  {
   "cell_type": "markdown",
   "metadata": {},
   "source": [
    "We introduce a new `Composition` that works for `v2alpha1` and handles the new `bar` property:"
   ]
  },
  {
   "cell_type": "code",
   "execution_count": 65,
   "metadata": {},
   "outputs": [
    {
     "name": "stdout",
     "output_type": "stream",
     "text": [
      "composition.apiextensions.crossplane.io/simple-composition-v2alpha1 created\n"
     ]
    }
   ],
   "source": [
    "%%bash\n",
    "cat << EOF | kubectl apply -f -\n",
    "apiVersion: apiextensions.crossplane.io/v1\n",
    "kind: Composition\n",
    "metadata:\n",
    "  name: simple-composition-v2alpha1\n",
    "spec:\n",
    "  mode: Pipeline\n",
    "  compositeTypeRef:\n",
    "    apiVersion: example.guidewire.net/v2alpha1\n",
    "    kind: xSimple\n",
    "  pipeline:\n",
    "  - step: patch-and-transform\n",
    "    functionRef:\n",
    "      name: function-patch-and-transform\n",
    "    input:\n",
    "      apiVersion: pt.fn.crossplane.io/v1beta1\n",
    "      kind: Resources\n",
    "      resources:\n",
    "      - name: themap\n",
    "        base:\n",
    "          apiVersion: kubernetes.crossplane.io/v1alpha2\n",
    "          kind: Object\n",
    "          spec:\n",
    "            forProvider:\n",
    "              manifest:\n",
    "                apiVersion: v1\n",
    "                kind: ConfigMap\n",
    "                metadata:\n",
    "                  namespace: default\n",
    "                data:\n",
    "                  constant: first version\n",
    "                  foo: replace me\n",
    "                  bar: gets replaced too\n",
    "        patches:\n",
    "          - type: FromCompositeFieldPath\n",
    "            fromFieldPath: spec.foo\n",
    "            toFieldPath: spec.forProvider.manifest.data.foo\n",
    "          - type: FromCompositeFieldPath\n",
    "            fromFieldPath: spec.bar\n",
    "            toFieldPath: spec.forProvider.manifest.data.bar"
   ]
  },
  {
   "cell_type": "markdown",
   "metadata": {},
   "source": [
    "Confirm the first part of our hypothesis: the `test` claim created on `v1alpha1` is still present and working:"
   ]
  },
  {
   "cell_type": "code",
   "execution_count": 66,
   "metadata": {},
   "outputs": [
    {
     "name": "stdout",
     "output_type": "stream",
     "text": [
      "NAME   SYNCED   READY   CONNECTION-SECRET   AGE\n",
      "test   True     True                        29s\n",
      "-----------------\n",
      "example.guidewire.net/v2alpha1\n",
      "-----------------\n",
      "Name:         test-jk966-ccslc\n",
      "Namespace:    default\n",
      "Labels:       <none>\n",
      "Annotations:  <none>\n",
      "\n",
      "Data\n",
      "====\n",
      "constant:\n",
      "----\n",
      "first version\n",
      "foo:\n",
      "----\n",
      "Hello, World!\n",
      "\n",
      "BinaryData\n",
      "====\n",
      "\n",
      "Events:  <none>\n"
     ]
    }
   ],
   "source": [
    "%%bash\n",
    "kubectl get claim test\n",
    "echo \"-----------------\"\n",
    "kubectl get claim test -o yaml | yq .apiVersion\n",
    "echo \"-----------------\"\n",
    "kubectl describe `kubectl get configmap -o=name | grep test`"
   ]
  },
  {
   "cell_type": "markdown",
   "metadata": {},
   "source": [
    "The `test` claim is still present, however: note it is served as version `v2alpha1`!\n",
    "\n",
    "Confirm we can still create new resources with `v1alpha1`:"
   ]
  },
  {
   "cell_type": "code",
   "execution_count": 67,
   "metadata": {},
   "outputs": [
    {
     "name": "stdout",
     "output_type": "stream",
     "text": [
      "simple.example.guidewire.net/test-v1 created\n"
     ]
    }
   ],
   "source": [
    "%%bash\n",
    "cat << EOF | kubectl apply -f -\n",
    "apiVersion: example.guidewire.net/v1alpha1\n",
    "kind: Simple\n",
    "metadata:\n",
    "  name: test-v1\n",
    "  namespace: default\n",
    "spec:\n",
    "  foo: \"Hello, World!\"\n",
    "  compositionRef:\n",
    "    name: simple-composition-v1alpha1\n",
    "EOF"
   ]
  },
  {
   "cell_type": "code",
   "execution_count": 69,
   "metadata": {},
   "outputs": [
    {
     "name": "stdout",
     "output_type": "stream",
     "text": [
      "NAME      SYNCED   READY   CONNECTION-SECRET   AGE\n",
      "test      True     True                        2m31s\n",
      "test-v1   True     True                        76s\n",
      "-----------------\n",
      "Name:         test-jk966-ccslc\n",
      "Namespace:    default\n",
      "Labels:       <none>\n",
      "Annotations:  <none>\n",
      "\n",
      "Data\n",
      "====\n",
      "constant:\n",
      "----\n",
      "first version\n",
      "foo:\n",
      "----\n",
      "Hello, World!\n",
      "\n",
      "BinaryData\n",
      "====\n",
      "\n",
      "Events:  <none>\n",
      "\n",
      "\n",
      "Name:         test-v1-9kznd-9dqmc\n",
      "Namespace:    default\n",
      "Labels:       <none>\n",
      "Annotations:  <none>\n",
      "\n",
      "Data\n",
      "====\n",
      "constant:\n",
      "----\n",
      "first version\n",
      "foo:\n",
      "----\n",
      "Hello, World!\n",
      "\n",
      "BinaryData\n",
      "====\n",
      "\n",
      "Events:  <none>\n"
     ]
    }
   ],
   "source": [
    "%%bash\n",
    "kubectl get claim\n",
    "echo \"-----------------\"\n",
    "kubectl describe `kubectl get configmap -o=name | grep test`"
   ]
  },
  {
   "cell_type": "markdown",
   "metadata": {},
   "source": [
    "Confirm the second part of our hypothesis: new claims can be created with version `v2alpha1`:"
   ]
  },
  {
   "cell_type": "code",
   "execution_count": 70,
   "metadata": {},
   "outputs": [
    {
     "name": "stdout",
     "output_type": "stream",
     "text": [
      "simple.example.guidewire.net/test-v2 created\n"
     ]
    }
   ],
   "source": [
    "%%bash\n",
    "cat << EOF | kubectl apply -f -\n",
    "apiVersion: example.guidewire.net/v2alpha1\n",
    "kind: Simple\n",
    "metadata:\n",
    "  name: test-v2\n",
    "  namespace: default\n",
    "spec:\n",
    "  foo: \"Hello, World!\"\n",
    "  bar: \"Goodbye, Cruel World!\"\n",
    "  compositionRef:\n",
    "    name: simple-composition-v2alpha1\n",
    "EOF"
   ]
  },
  {
   "cell_type": "code",
   "execution_count": 71,
   "metadata": {},
   "outputs": [
    {
     "name": "stdout",
     "output_type": "stream",
     "text": [
      "NAME      SYNCED   READY   CONNECTION-SECRET   AGE\n",
      "test      True     True                        3m47s\n",
      "test-v1   True     True                        2m32s\n",
      "test-v2   True     False                       4s\n",
      "Name:         test-jk966-ccslc\n",
      "Namespace:    default\n",
      "Labels:       <none>\n",
      "Annotations:  <none>\n",
      "\n",
      "Data\n",
      "====\n",
      "foo:\n",
      "----\n",
      "Hello, World!\n",
      "constant:\n",
      "----\n",
      "first version\n",
      "\n",
      "BinaryData\n",
      "====\n",
      "\n",
      "Events:  <none>\n",
      "\n",
      "\n",
      "Name:         test-v1-9kznd-9dqmc\n",
      "Namespace:    default\n",
      "Labels:       <none>\n",
      "Annotations:  <none>\n",
      "\n",
      "Data\n",
      "====\n",
      "constant:\n",
      "----\n",
      "first version\n",
      "foo:\n",
      "----\n",
      "Hello, World!\n",
      "\n",
      "BinaryData\n",
      "====\n",
      "\n",
      "Events:  <none>\n"
     ]
    }
   ],
   "source": [
    "%%bash\n",
    "kubectl get claim\n",
    "kubectl describe `kubectl get configmap -o=name | grep test`"
   ]
  },
  {
   "cell_type": "markdown",
   "metadata": {},
   "source": [
    "The new claim on `v2alpha1` is not ready, check the status of the underlying composite resource:"
   ]
  },
  {
   "cell_type": "code",
   "execution_count": 72,
   "metadata": {},
   "outputs": [
    {
     "name": "stdout",
     "output_type": "stream",
     "text": [
      "Name:         test-v2-bkmq9\n",
      "Namespace:    \n",
      "Labels:       crossplane.io/claim-name=test-v2\n",
      "              crossplane.io/claim-namespace=default\n",
      "              crossplane.io/composite=test-v2-bkmq9\n",
      "Annotations:  <none>\n",
      "API Version:  example.guidewire.net/v2alpha1\n",
      "Kind:         xSimple\n",
      "Metadata:\n",
      "  Creation Timestamp:  2024-12-20T04:43:13Z\n",
      "  Finalizers:\n",
      "    composite.apiextensions.crossplane.io\n",
      "  Generate Name:     test-v2-\n",
      "  Generation:        2\n",
      "  Resource Version:  69881\n",
      "  UID:               49e2b452-0128-488a-9e38-39412b123207\n",
      "Spec:\n",
      "  Claim Ref:\n",
      "    API Version:  example.guidewire.net/v1alpha1\n",
      "    Kind:         Simple\n",
      "    Name:         test-v2\n",
      "    Namespace:    default\n",
      "  Composition Ref:\n",
      "    Name:  simple-composition-v2alpha1\n",
      "  Composition Revision Ref:\n",
      "    Name:                     simple-composition-v2alpha1-83cb458\n",
      "  Composition Update Policy:  Automatic\n",
      "  Foo:                        Hello, World!\n",
      "Status:\n",
      "  Conditions:\n",
      "    Last Transition Time:  2024-12-20T04:43:13Z\n",
      "    Message:               cannot configure composite resource: referenced composition is not compatible with this composite resource\n",
      "    Reason:                ReconcileError\n",
      "    Status:                False\n",
      "    Type:                  Synced\n",
      "Events:\n",
      "  Type     Reason             Age               From                                                             Message\n",
      "  ----     ------             ----              ----                                                             -------\n",
      "  Normal   SelectComposition  13s               defined/compositeresourcedefinition.apiextensions.crossplane.io  Selected composition revision: simple-composition-v2alpha1-83cb458\n",
      "  Warning  ComposeResources   8s (x4 over 13s)  defined/compositeresourcedefinition.apiextensions.crossplane.io  cannot configure composite resource: referenced composition is not compatible with this composite resource\n"
     ]
    }
   ],
   "source": [
    "%%bash\n",
    "kubectl describe composite `kubectl get claim test-v2 -o yaml | yq .spec.resourceRef.name`"
   ]
  },
  {
   "cell_type": "markdown",
   "metadata": {},
   "source": [
    "The error is:\n",
    "\n",
    "`cannot configure composite resource: referenced composition is not compatible with this composite resource`\n",
    "\n",
    "Hypothesis: the issue is that the `v2alpha1` version is not `referenceable`. Let's test that:"
   ]
  },
  {
   "cell_type": "code",
   "execution_count": 73,
   "metadata": {},
   "outputs": [
    {
     "name": "stdout",
     "output_type": "stream",
     "text": [
      "simple.example.guidewire.net \"test-v2\" deleted\n"
     ]
    }
   ],
   "source": [
    "%%bash\n",
    "kubectl delete claim test-v2"
   ]
  },
  {
   "cell_type": "code",
   "execution_count": 74,
   "metadata": {},
   "outputs": [
    {
     "name": "stdout",
     "output_type": "stream",
     "text": [
      "compositeresourcedefinition.apiextensions.crossplane.io/xsimples.example.guidewire.net patched\n"
     ]
    }
   ],
   "source": [
    "%%bash\n",
    "kubectl patch xrd xsimples.example.guidewire.net --type='json' -p='[{\"op\": \"replace\", \"path\": \"/spec/versions/0/referenceable\", \"value\":false},{\"op\": \"replace\", \"path\": \"/spec/versions/1/referenceable\", \"value\":true}]'"
   ]
  },
  {
   "cell_type": "code",
   "execution_count": 75,
   "metadata": {},
   "outputs": [
    {
     "name": "stdout",
     "output_type": "stream",
     "text": [
      "simple.example.guidewire.net/test-v2 created\n"
     ]
    }
   ],
   "source": [
    "%%bash\n",
    "cat << EOF | kubectl apply -f -\n",
    "apiVersion: example.guidewire.net/v2alpha1\n",
    "kind: Simple\n",
    "metadata:\n",
    "  name: test-v2\n",
    "  namespace: default\n",
    "spec:\n",
    "  foo: \"Hello, World!\"\n",
    "  bar: \"Goodbye, Cruel World!\"\n",
    "  compositionRef:\n",
    "    name: simple-composition-v2alpha1\n",
    "EOF"
   ]
  },
  {
   "cell_type": "code",
   "execution_count": 76,
   "metadata": {},
   "outputs": [
    {
     "name": "stdout",
     "output_type": "stream",
     "text": [
      "NAME      SYNCED   READY   CONNECTION-SECRET   AGE\n",
      "test      False    True                        4m17s\n",
      "test-v1   False    True                        3m2s\n",
      "test-v2   True     True                        4s\n",
      "Name:         test-jk966-ccslc\n",
      "Namespace:    default\n",
      "Labels:       <none>\n",
      "Annotations:  <none>\n",
      "\n",
      "Data\n",
      "====\n",
      "constant:\n",
      "----\n",
      "first version\n",
      "foo:\n",
      "----\n",
      "Hello, World!\n",
      "\n",
      "BinaryData\n",
      "====\n",
      "\n",
      "Events:  <none>\n",
      "\n",
      "\n",
      "Name:         test-v1-9kznd-9dqmc\n",
      "Namespace:    default\n",
      "Labels:       <none>\n",
      "Annotations:  <none>\n",
      "\n",
      "Data\n",
      "====\n",
      "constant:\n",
      "----\n",
      "first version\n",
      "foo:\n",
      "----\n",
      "Hello, World!\n",
      "\n",
      "BinaryData\n",
      "====\n",
      "\n",
      "Events:  <none>\n",
      "\n",
      "\n",
      "Name:         test-v2-q4zj7-chplk\n",
      "Namespace:    default\n",
      "Labels:       <none>\n",
      "Annotations:  <none>\n",
      "\n",
      "Data\n",
      "====\n",
      "bar:\n",
      "----\n",
      "Goodbye, Cruel World!\n",
      "constant:\n",
      "----\n",
      "first version\n",
      "foo:\n",
      "----\n",
      "Hello, World!\n",
      "\n",
      "BinaryData\n",
      "====\n",
      "\n",
      "Events:  <none>\n"
     ]
    }
   ],
   "source": [
    "%%bash\n",
    "kubectl get claim\n",
    "kubectl describe `kubectl get configmap -o=name | grep test`"
   ]
  },
  {
   "cell_type": "markdown",
   "metadata": {},
   "source": [
    "Unfortunately, we can now predict that creating a `v1alpha1` resource no longer works:"
   ]
  },
  {
   "cell_type": "code",
   "execution_count": 77,
   "metadata": {},
   "outputs": [
    {
     "name": "stdout",
     "output_type": "stream",
     "text": [
      "simple.example.guidewire.net/test3 created\n"
     ]
    }
   ],
   "source": [
    "%%bash\n",
    "cat << EOF | kubectl apply -f -\n",
    "apiVersion: example.guidewire.net/v1alpha1\n",
    "kind: Simple\n",
    "metadata:\n",
    "  name: test3\n",
    "  namespace: default\n",
    "spec:\n",
    "  foo: \"Hello, World!\"\n",
    "  compositionRef:\n",
    "    name: simple-composition-v1alpha1\n",
    "EOF"
   ]
  },
  {
   "cell_type": "code",
   "execution_count": 78,
   "metadata": {},
   "outputs": [
    {
     "name": "stdout",
     "output_type": "stream",
     "text": [
      "NAME      SYNCED   READY   CONNECTION-SECRET   AGE\n",
      "test      False    True                        4m32s\n",
      "test-v1   False    True                        3m17s\n",
      "test-v2   True     True                        19s\n",
      "test3     False                                3s\n",
      "-----------------\n",
      "Name:         test3\n",
      "Namespace:    default\n",
      "Labels:       <none>\n",
      "Annotations:  <none>\n",
      "API Version:  example.guidewire.net/v2alpha1\n",
      "Kind:         Simple\n",
      "Metadata:\n",
      "  Creation Timestamp:  2024-12-20T04:43:59Z\n",
      "  Finalizers:\n",
      "    finalizer.apiextensions.crossplane.io\n",
      "  Generation:        1\n",
      "  Resource Version:  70072\n",
      "  UID:               5acfb1ae-6254-4b07-9e8b-17808088fb4b\n",
      "Spec:\n",
      "  Composite Delete Policy:  Background\n",
      "  Composition Ref:\n",
      "    Name:  simple-composition-v1alpha1\n",
      "  Foo:     Hello, World!\n",
      "Status:\n",
      "  Conditions:\n",
      "    Last Transition Time:  2024-12-20T04:43:59Z\n",
      "    Message:               cannot bind and sync claim with composite resource: cannot update claim: Simple.example.guidewire.net \"test3\" is invalid: spec.bar: Required value\n",
      "    Reason:                ReconcileError\n",
      "    Status:                False\n",
      "    Type:                  Synced\n",
      "Events:\n",
      "  Type     Reason                 Age              From                                                             Message\n",
      "  ----     ------                 ----             ----                                                             -------\n",
      "  Warning  BindCompositeResource  2s (x3 over 3s)  offered/compositeresourcedefinition.apiextensions.crossplane.io  cannot bind and sync claim with composite resource: cannot update claim: Simple.example.guidewire.net \"test3\" is invalid: spec.bar: Required value\n"
     ]
    }
   ],
   "source": [
    "%%bash\n",
    "kubectl get claim\n",
    "echo \"-----------------\"\n",
    "kubectl describe claim test3"
   ]
  },
  {
   "cell_type": "markdown",
   "metadata": {},
   "source": [
    "It didn't work but the failure was unexpected:\n",
    "\n",
    "`cannot bind and sync claim with composite resource: cannot update claim: Simple.example.guidewire.net \"test3\" is invalid: spec.bar: Required value`\n",
    "\n",
    "It seems we can no longer create resources with `v1alpha1`; it's almost as if they're getting converted to `v2alpha1` in the background.\n",
    "\n",
    "This is likely due to the CRD `storage` property which is derived from `referenceable` on the XRD:"
   ]
  },
  {
   "cell_type": "code",
   "execution_count": 79,
   "metadata": {},
   "outputs": [
    {
     "name": "stdout",
     "output_type": "stream",
     "text": [
      "v1alpha1: false\n",
      "v2alpha1: true\n"
     ]
    }
   ],
   "source": [
    "%%bash\n",
    "kubectl get crd xsimples.example.guidewire.net  -o yaml | yq '.spec.versions[] | {.name: .storage}'"
   ]
  },
  {
   "cell_type": "markdown",
   "metadata": {},
   "source": [
    "TODO: What if `v2alpha1` had `bar` as optional; would we have gotten farther?\n",
    "\n",
    "TODO: We should next look at conversions in Kubernetes..."
   ]
  }
 ],
 "metadata": {
  "kernelspec": {
   "display_name": ".venv",
   "language": "python",
   "name": "python3"
  },
  "language_info": {
   "codemirror_mode": {
    "name": "ipython",
    "version": 3
   },
   "file_extension": ".py",
   "mimetype": "text/x-python",
   "name": "python",
   "nbconvert_exporter": "python",
   "pygments_lexer": "ipython3",
   "version": "3.13.0"
  }
 },
 "nbformat": 4,
 "nbformat_minor": 2
}
