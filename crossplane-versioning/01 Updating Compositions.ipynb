{
 "cells": [
  {
   "cell_type": "markdown",
   "metadata": {},
   "source": [
    "# Updating Compositions\n",
    "\n",
    "**Purpose:** Discover if when a `Composition` is updated, whether all resources that have already been created using it get updated automatically.\n",
    "\n",
    "**Reason:** As a platform, we provide capabilities through APIs defined in XRDs. Our users consume those APIs with composites and claims. We need to deliver updates to the implementations for resources they have already created, without requiring the users to take action.\n",
    "\n",
    "## Findings\n",
    "1. When a `Composition` is updated, it is re-applied for all existing composites and claims, and the resources it creates are updated.\n",
    "2. This behaviour can be prevented by a consumer by adding `compositionUpdatePolicy` to their claim or composite.\n",
    "3. The consumer can then adopt newer revisions of the `Composition` by setting `compositionRevisionRef` on their claim or composite.\n",
    "4. Composition revisions are not too useful as a way of allowing consumers to choose their implementation version since the revision names will not be stable across clusters."
   ]
  },
  {
   "cell_type": "markdown",
   "metadata": {},
   "source": [
    "## Setup\n",
    "\n",
    "Let's define an XRD for a simple resource with a single property, `foo`:"
   ]
  },
  {
   "cell_type": "code",
   "execution_count": 2,
   "metadata": {},
   "outputs": [
    {
     "name": "stdout",
     "output_type": "stream",
     "text": [
      "compositeresourcedefinition.apiextensions.crossplane.io/xsimples.example.guidewire.net created\n"
     ]
    }
   ],
   "source": [
    "%%bash\n",
    "cat << EOF | kubectl apply -f -\n",
    "apiVersion: apiextensions.crossplane.io/v1\n",
    "kind: CompositeResourceDefinition\n",
    "metadata:\n",
    "  name: xsimples.example.guidewire.net\n",
    "spec:\n",
    "  group: example.guidewire.net\n",
    "  names:\n",
    "    kind: xSimple\n",
    "    plural: xsimples\n",
    "  claimNames:\n",
    "    kind: Simple\n",
    "    plural: simples\n",
    "  versions:\n",
    "  - name: v1alpha1\n",
    "    served: true\n",
    "    referenceable: true\n",
    "    schema:\n",
    "      openAPIV3Schema:\n",
    "        type: object\n",
    "        properties:\n",
    "          spec:\n",
    "            type: object\n",
    "            properties:\n",
    "              foo:\n",
    "                type: string\n",
    "EOF"
   ]
  },
  {
   "cell_type": "markdown",
   "metadata": {},
   "source": [
    "Let's also define an implementation that creates a `ConfigMap` with the value of `foo` put in it:"
   ]
  },
  {
   "cell_type": "code",
   "execution_count": 3,
   "metadata": {},
   "outputs": [
    {
     "name": "stdout",
     "output_type": "stream",
     "text": [
      "composition.apiextensions.crossplane.io/simple-composition created\n"
     ]
    }
   ],
   "source": [
    "%%bash\n",
    "cat << EOF | kubectl apply -f -\n",
    "apiVersion: apiextensions.crossplane.io/v1\n",
    "kind: Composition\n",
    "metadata:\n",
    "  name: simple-composition\n",
    "spec:\n",
    "  mode: Pipeline\n",
    "  compositeTypeRef:\n",
    "    apiVersion: example.guidewire.net/v1alpha1\n",
    "    kind: xSimple\n",
    "  pipeline:\n",
    "  - step: patch-and-transform\n",
    "    functionRef:\n",
    "      name: function-patch-and-transform\n",
    "    input:\n",
    "      apiVersion: pt.fn.crossplane.io/v1beta1\n",
    "      kind: Resources\n",
    "      resources:\n",
    "      - name: themap\n",
    "        base:\n",
    "          apiVersion: kubernetes.crossplane.io/v1alpha2\n",
    "          kind: Object\n",
    "          spec:\n",
    "            forProvider:\n",
    "              manifest:\n",
    "                apiVersion: v1\n",
    "                kind: ConfigMap\n",
    "                metadata:\n",
    "                  namespace: default\n",
    "                data:\n",
    "                  constant: first version\n",
    "                  foo: replace me\n",
    "        patches:\n",
    "          - type: FromCompositeFieldPath\n",
    "            fromFieldPath: spec.foo\n",
    "            toFieldPath: spec.forProvider.manifest.data.foo\n",
    "EOF"
   ]
  },
  {
   "cell_type": "markdown",
   "metadata": {},
   "source": [
    "Now we can create a claim and see that the `ConfigMap` gets created:"
   ]
  },
  {
   "cell_type": "code",
   "execution_count": 4,
   "metadata": {},
   "outputs": [
    {
     "name": "stdout",
     "output_type": "stream",
     "text": [
      "simple.example.guidewire.net/test created\n"
     ]
    }
   ],
   "source": [
    "%%bash\n",
    "cat << EOF | kubectl apply -f -\n",
    "apiVersion: example.guidewire.net/v1alpha1\n",
    "kind: Simple\n",
    "metadata:\n",
    "  name: test\n",
    "  namespace: default\n",
    "spec:\n",
    "  foo: \"Hello, World!\"\n",
    "  compositionRef:\n",
    "    name: simple-composition \n",
    "EOF"
   ]
  },
  {
   "cell_type": "code",
   "execution_count": 19,
   "metadata": {},
   "outputs": [
    {
     "name": "stdout",
     "output_type": "stream",
     "text": [
      "NAME   SYNCED   READY   CONNECTION-SECRET   AGE\n",
      "test   True     True                        7m41s\n",
      "-----------------\n",
      "Name:         test-l8vxb-vcblj\n",
      "Namespace:    default\n",
      "Labels:       <none>\n",
      "Annotations:  <none>\n",
      "\n",
      "Data\n",
      "====\n",
      "constant:\n",
      "----\n",
      "first version\n",
      "foo:\n",
      "----\n",
      "Hello, World!\n",
      "\n",
      "BinaryData\n",
      "====\n",
      "\n",
      "Events:  <none>\n"
     ]
    }
   ],
   "source": [
    "%%bash\n",
    "kubectl get claim test\n",
    "echo \"-----------------\"\n",
    "kubectl describe `kubectl get configmap -o=name | grep test`"
   ]
  },
  {
   "cell_type": "markdown",
   "metadata": {},
   "source": [
    "Note that a composite was also created by the claim:"
   ]
  },
  {
   "cell_type": "code",
   "execution_count": 21,
   "metadata": {},
   "outputs": [
    {
     "name": "stdout",
     "output_type": "stream",
     "text": [
      "NAME         SYNCED   READY   COMPOSITION          AGE\n",
      "test-l8vxb   True     True    simple-composition   8m29s\n"
     ]
    }
   ],
   "source": [
    "%%bash\n",
    "kubectl get composite `kubectl get claim test -o yaml | yq .spec.resourceRef.name`"
   ]
  },
  {
   "cell_type": "markdown",
   "metadata": {},
   "source": [
    "## Experiment: Update the `Composition`\n",
    "\n",
    "The `Composition` created a `ConfigMap` with two keys: `foo` and `constant`. The value of `foo` is provided through the XRD; the value of `constant` is provided in the `Composition` itself.\n",
    "\n",
    "**Hypothesis:** if we update the `Composition` with a new value for `constant`, then the existing `ConfigMap` should be updated in place with the new value of `constant`.\n",
    "\n",
    "Let's update the value of `constant` in the `Composition`:"
   ]
  },
  {
   "cell_type": "code",
   "execution_count": 22,
   "metadata": {},
   "outputs": [
    {
     "name": "stdout",
     "output_type": "stream",
     "text": [
      "composition.apiextensions.crossplane.io/simple-composition configured\n"
     ]
    }
   ],
   "source": [
    "%%bash\n",
    "cat << EOF | kubectl apply -f -\n",
    "apiVersion: apiextensions.crossplane.io/v1\n",
    "kind: Composition\n",
    "metadata:\n",
    "  name: simple-composition\n",
    "spec:\n",
    "  mode: Pipeline\n",
    "  compositeTypeRef:\n",
    "    apiVersion: example.guidewire.net/v1alpha1\n",
    "    kind: xSimple\n",
    "  pipeline:\n",
    "  - step: patch-and-transform\n",
    "    functionRef:\n",
    "      name: function-patch-and-transform\n",
    "    input:\n",
    "      apiVersion: pt.fn.crossplane.io/v1beta1\n",
    "      kind: Resources\n",
    "      resources:\n",
    "      - name: themap\n",
    "        base:\n",
    "          apiVersion: kubernetes.crossplane.io/v1alpha2\n",
    "          kind: Object\n",
    "          spec:\n",
    "            forProvider:\n",
    "              manifest:\n",
    "                apiVersion: v1\n",
    "                kind: ConfigMap\n",
    "                metadata:\n",
    "                  namespace: default\n",
    "                data:\n",
    "                  constant: second version\n",
    "                  foo: replace me\n",
    "        patches:\n",
    "          - type: FromCompositeFieldPath\n",
    "            fromFieldPath: spec.foo\n",
    "            toFieldPath: spec.forProvider.manifest.data.foo"
   ]
  },
  {
   "cell_type": "markdown",
   "metadata": {},
   "source": [
    "Now let's check if the `ConfigMap` was updated:"
   ]
  },
  {
   "cell_type": "code",
   "execution_count": 23,
   "metadata": {},
   "outputs": [
    {
     "name": "stdout",
     "output_type": "stream",
     "text": [
      "Name:         test-l8vxb-vcblj\n",
      "Namespace:    default\n",
      "Labels:       <none>\n",
      "Annotations:  <none>\n",
      "\n",
      "Data\n",
      "====\n",
      "constant:\n",
      "----\n",
      "second version\n",
      "foo:\n",
      "----\n",
      "Hello, World!\n",
      "\n",
      "BinaryData\n",
      "====\n",
      "\n",
      "Events:  <none>\n"
     ]
    }
   ],
   "source": [
    "%%bash\n",
    "kubectl describe `kubectl get configmap -o=name | grep test`"
   ]
  },
  {
   "cell_type": "markdown",
   "metadata": {},
   "source": [
    "The `constant` key's value has been updated from `first version` to `second version`.\n",
    "\n",
    "Note that the name of the `ConfigMap` is the same as before, `test-l8vxb-vcblj`, which confirms it was updated in-place.\n",
    "\n",
    "This confirms the hypothesis that updates to the `Composition` will be applied to existing resources."
   ]
  },
  {
   "cell_type": "markdown",
   "metadata": {},
   "source": [
    "## Experiment: Locking a Claim to a `Composition`\n",
    "\n",
    "**Hypothesis:** A consumer can use the `compositionUpdatePolicy` on a composite or claim to prevent updates from the `Composition` from being applied."
   ]
  },
  {
   "cell_type": "markdown",
   "metadata": {},
   "source": [
    "Delete and re-create the claim with `compositionUpdatePolicy` set to `Manual`:"
   ]
  },
  {
   "cell_type": "code",
   "execution_count": 24,
   "metadata": {},
   "outputs": [
    {
     "name": "stdout",
     "output_type": "stream",
     "text": [
      "simple.example.guidewire.net \"test\" deleted\n",
      "simple.example.guidewire.net/test created\n"
     ]
    }
   ],
   "source": [
    "%%bash\n",
    "kubectl delete claim test\n",
    "cat << EOF | kubectl apply -f -\n",
    "apiVersion: example.guidewire.net/v1alpha1\n",
    "kind: Simple\n",
    "metadata:\n",
    "  name: test\n",
    "  namespace: default\n",
    "spec:\n",
    "  foo: \"Hello, World!\"\n",
    "  compositionRef:\n",
    "    name: simple-composition\n",
    "  compositionUpdatePolicy: Manual\n",
    "EOF"
   ]
  },
  {
   "cell_type": "markdown",
   "metadata": {},
   "source": [
    "Let's view the `ConfigMap`:"
   ]
  },
  {
   "cell_type": "code",
   "execution_count": 25,
   "metadata": {},
   "outputs": [
    {
     "name": "stdout",
     "output_type": "stream",
     "text": [
      "NAME   SYNCED   READY   CONNECTION-SECRET   AGE\n",
      "test   True     True                        45s\n",
      "-----------------\n",
      "Name:         test-nq9gn-4csft\n",
      "Namespace:    default\n",
      "Labels:       <none>\n",
      "Annotations:  <none>\n",
      "\n",
      "Data\n",
      "====\n",
      "constant:\n",
      "----\n",
      "second version\n",
      "foo:\n",
      "----\n",
      "Hello, World!\n",
      "\n",
      "BinaryData\n",
      "====\n",
      "\n",
      "Events:  <none>\n"
     ]
    }
   ],
   "source": [
    "%%bash\n",
    "kubectl get claim test\n",
    "echo \"-----------------\"\n",
    "kubectl describe `kubectl get configmap -o=name | grep test`"
   ]
  },
  {
   "cell_type": "markdown",
   "metadata": {},
   "source": [
    "Update the `Composition` again by changing the hard-coded value it uses for `constant`:"
   ]
  },
  {
   "cell_type": "code",
   "execution_count": 26,
   "metadata": {},
   "outputs": [
    {
     "name": "stdout",
     "output_type": "stream",
     "text": [
      "composition.apiextensions.crossplane.io/simple-composition patched\n"
     ]
    }
   ],
   "source": [
    "%%bash\n",
    "kubectl patch composition simple-composition --type='json' -p='[{\"op\": \"replace\", \"path\": \"/spec/pipeline/0/input/resources/0/base/spec/forProvider/manifest/data/constant\", \"value\":\"third version\"}]'"
   ]
  },
  {
   "cell_type": "markdown",
   "metadata": {},
   "source": [
    "View the `ConfigMap` again:"
   ]
  },
  {
   "cell_type": "code",
   "execution_count": 27,
   "metadata": {},
   "outputs": [
    {
     "name": "stdout",
     "output_type": "stream",
     "text": [
      "NAME   SYNCED   READY   CONNECTION-SECRET   AGE\n",
      "test   True     True                        5m30s\n",
      "-----------------\n",
      "Name:         test-nq9gn-4csft\n",
      "Namespace:    default\n",
      "Labels:       <none>\n",
      "Annotations:  <none>\n",
      "\n",
      "Data\n",
      "====\n",
      "foo:\n",
      "----\n",
      "Hello, World!\n",
      "constant:\n",
      "----\n",
      "second version\n",
      "\n",
      "BinaryData\n",
      "====\n",
      "\n",
      "Events:  <none>\n"
     ]
    }
   ],
   "source": [
    "%%bash\n",
    "kubectl get claim test\n",
    "echo \"-----------------\"\n",
    "kubectl describe `kubectl get configmap -o=name | grep test`"
   ]
  },
  {
   "cell_type": "markdown",
   "metadata": {},
   "source": [
    "As expected, it is not updated.\n",
    "\n",
    "We can make the claim use the new revision of the `Composition` as follows:"
   ]
  },
  {
   "cell_type": "code",
   "execution_count": 48,
   "metadata": {},
   "outputs": [
    {
     "name": "stdout",
     "output_type": "stream",
     "text": [
      "NAME                         REVISION   XR-KIND   XR-APIVERSION                    AGE\n",
      "simple-composition-0b06493   3          xSimple   example.guidewire.net/v1alpha1   10m\n",
      "simple-composition-6a700d0   1          xSimple   example.guidewire.net/v1alpha1   129m\n",
      "simple-composition-79696e3   2          xSimple   example.guidewire.net/v1alpha1   109m\n",
      "-----------------\n",
      "NAME   SYNCED   READY   CONNECTION-SECRET   AGE\n",
      "test   True     True                        15m\n",
      "-----------------\n",
      "simple.example.guidewire.net/test patched\n"
     ]
    }
   ],
   "source": [
    "%%bash\n",
    "kubectl get compositionrevision\n",
    "echo \"-----------------\"\n",
    "kubectl get claim test\n",
    "echo \"-----------------\"\n",
    "kubectl patch claim test -p=\"{\\\"spec\\\":{\\\"compositionRevisionRef\\\":{\\\"name\\\":\\\"$(kubectl get compositionrevision | grep \"simple-composition\" | sort -k 2 | tail -1 | cut -f1 -d' ')\\\"}}}\" --type=merge"
   ]
  },
  {
   "cell_type": "markdown",
   "metadata": {},
   "source": [
    "View the `ConfigMap` again:"
   ]
  },
  {
   "cell_type": "code",
   "execution_count": 49,
   "metadata": {},
   "outputs": [
    {
     "name": "stdout",
     "output_type": "stream",
     "text": [
      "NAME   SYNCED   READY   CONNECTION-SECRET   AGE\n",
      "test   True     True                        15m\n",
      "-----------------\n",
      "Name:         test-nq9gn-4csft\n",
      "Namespace:    default\n",
      "Labels:       <none>\n",
      "Annotations:  <none>\n",
      "\n",
      "Data\n",
      "====\n",
      "constant:\n",
      "----\n",
      "third version\n",
      "foo:\n",
      "----\n",
      "Hello, World!\n",
      "\n",
      "BinaryData\n",
      "====\n",
      "\n",
      "Events:  <none>\n"
     ]
    }
   ],
   "source": [
    "%%bash\n",
    "kubectl get claim test\n",
    "echo \"-----------------\"\n",
    "kubectl describe `kubectl get configmap -o=name | grep test`"
   ]
  },
  {
   "cell_type": "markdown",
   "metadata": {},
   "source": [
    "The `constant` key's value has been updated from `second version` to `third version`.\n",
    "\n",
    "This shows that a `compositionRevisionRef` can be used on a claim to use the latest `Composition` in cases where `compositionUpdatePolicy` is set to `Manual`."
   ]
  }
 ],
 "metadata": {
  "kernelspec": {
   "display_name": ".venv",
   "language": "python",
   "name": "python3"
  },
  "language_info": {
   "codemirror_mode": {
    "name": "ipython",
    "version": 3
   },
   "file_extension": ".py",
   "mimetype": "text/x-python",
   "name": "python",
   "nbconvert_exporter": "python",
   "pygments_lexer": "ipython3",
   "version": "3.13.0"
  }
 },
 "nbformat": 4,
 "nbformat_minor": 2
}
